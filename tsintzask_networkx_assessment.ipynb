{
  "nbformat": 4,
  "nbformat_minor": 0,
  "metadata": {
    "colab": {
      "provenance": [],
      "collapsed_sections": [],
      "include_colab_link": true
    },
    "kernelspec": {
      "name": "python3",
      "display_name": "Python 3"
    },
    "language_info": {
      "name": "python"
    }
  },
  "cells": [
    {
      "cell_type": "markdown",
      "metadata": {
        "id": "view-in-github",
        "colab_type": "text"
      },
      "source": [
        "<a href=\"https://colab.research.google.com/github/tsintzask/networkx-assessment/blob/main/tsintzask_networkx_assessment.ipynb\" target=\"_parent\"><img src=\"https://colab.research.google.com/assets/colab-badge.svg\" alt=\"Open In Colab\"/></a>"
      ]
    },
    {
      "cell_type": "markdown",
      "source": [
        "## About iPython Notebooks ##\n",
        "\n",
        "iPython Notebooks are interactive coding environments embedded in a webpage. You will be using iPython notebooks in this class. Make sure you fill in any place that says `# BEGIN CODE HERE #END CODE HERE`. After writing your code, you can run the cell by either pressing \"SHIFT\"+\"ENTER\" or by clicking on \"Run\" (denoted by a play symbol). Before you turn this problem in, make sure everything runs as expected. First, **restart the kernel** (in the menubar, select Kernel$\\rightarrow$Restart) and then **run all cells** (in the menubar, select Cell$\\rightarrow$Run All). \n",
        "\n",
        " **What you need to remember:**\n",
        "\n",
        "- Run your cells using SHIFT+ENTER (or \"Run cell\")\n",
        "- Write code in the designated areas using Python 3 only\n",
        "- Do not modify the code outside of the designated areas\n",
        "- In some cases you will also need to explain the results. There will also be designated areas for that. \n",
        "\n",
        "Fill in your **NAME** and **AEM** below:"
      ],
      "metadata": {
        "id": "vj5NFYDi2fFr"
      }
    },
    {
      "cell_type": "code",
      "source": [
        "NAME = \"Κωνσταντίνος Τσίντζας\"\n",
        "AEM = \"3113\""
      ],
      "metadata": {
        "id": "o929Z7VQ2iiq"
      },
      "execution_count": 1,
      "outputs": []
    },
    {
      "cell_type": "markdown",
      "source": [
        "# Mini assessment\n",
        "\n",
        "This assessment gives you a brief introduction to the NetworkX library. NetworkX is a python library for graphs. To complete this assessment, you can guide [NetworkX documentation](https://networkx.org/documentation/stable/reference/index.html)."
      ],
      "metadata": {
        "id": "uDuNAG1iiWPS"
      }
    },
    {
      "cell_type": "markdown",
      "source": [
        "## Import the libraries\n",
        "\n",
        "Run the below cell to import the libraries."
      ],
      "metadata": {
        "id": "KeN1U_59h7CH"
      }
    },
    {
      "cell_type": "code",
      "execution_count": 2,
      "metadata": {
        "id": "AeQCKwe9AFpV"
      },
      "outputs": [],
      "source": [
        "# Run this cell\n",
        "import requests\n",
        "import json\n",
        "import networkx as nx\n",
        "import matplotlib.pyplot as plt"
      ]
    },
    {
      "cell_type": "markdown",
      "source": [
        "## Download data\n",
        "\n",
        "Run the bellow cell to get the Twitter data in the `data` variable. The data contains a list of 1921 tweets that contain the hashtag #ελισσαβετ. This hashtag was created when Queen Elizabeth II died by Twitter users."
      ],
      "metadata": {
        "id": "DwI_PQquekIW"
      }
    },
    {
      "cell_type": "code",
      "source": [
        "# Run this cell\n",
        "url = 'https://drive.google.com/u/1/uc?id=1ngDx0bNya_0kh_tRwhyEgw5vMBFBHjkw&export=download'\n",
        "res = requests.get(url)\n",
        "data = res.json()"
      ],
      "metadata": {
        "id": "6yasJH3BAOp-"
      },
      "execution_count": 3,
      "outputs": []
    },
    {
      "cell_type": "markdown",
      "source": [
        "Run the cell below to see the Tweet object. The cell will print the first row from the `data` variable."
      ],
      "metadata": {
        "id": "smM81FM4gJt1"
      }
    },
    {
      "cell_type": "code",
      "source": [
        "# Run this cell\n",
        "data[0]"
      ],
      "metadata": {
        "id": "KKfs0pYFAUcW",
        "colab": {
          "base_uri": "https://localhost:8080/"
        },
        "outputId": "1bd4e6a3-ea42-4147-a8f7-8a0f31657ed7"
      },
      "execution_count": 12,
      "outputs": [
        {
          "output_type": "execute_result",
          "data": {
            "text/plain": [
              "{'_id': {'$oid': '632485805a7650a4a19b04ce'},\n",
              " 'reply_settings': 'everyone',\n",
              " 'conversation_id': 1570776062543679500,\n",
              " 'author_id': 2967448373,\n",
              " 'referenced_tweets': [{'type': 'retweeted', 'id': 1570493032159649800}],\n",
              " 'text': 'RT @KYTKYTKYTKYTKYT: Κοιτάχτε χάλι ο \"βασιλευς\"! 😂\\n\\n#Καρολος #ελισσαβετ #QueenElisabeth #Meghan #Charles https://t.co/o9pCuttj5V',\n",
              " 'source': 'Twitter for Android',\n",
              " 'entities': {'mentions': [{'start': 3,\n",
              "    'end': 19,\n",
              "    'username': 'KYTKYTKYTKYTKYT',\n",
              "    'id': '1052877677605134336'}],\n",
              "  'urls': [{'start': 105,\n",
              "    'end': 128,\n",
              "    'url': 'https://t.co/o9pCuttj5V',\n",
              "    'expanded_url': 'https://twitter.com/KYTKYTKYTKYTKYT/status/1570493032159649792/photo/1',\n",
              "    'display_url': 'pic.twitter.com/o9pCuttj5V',\n",
              "    'media_key': '3_1570492729934712833'}],\n",
              "  'hashtags': [{'start': 52, 'end': 60, 'tag': 'Καρολος'},\n",
              "   {'start': 61, 'end': 71, 'tag': 'ελισσαβετ'},\n",
              "   {'start': 72, 'end': 87, 'tag': 'QueenElisabeth'},\n",
              "   {'start': 88, 'end': 95, 'tag': 'Meghan'},\n",
              "   {'start': 96, 'end': 104, 'tag': 'Charles'}]},\n",
              " 'id': 1570776062543679500,\n",
              " 'public_metrics': {'retweet_count': 22,\n",
              "  'reply_count': 0,\n",
              "  'like_count': 0,\n",
              "  'quote_count': 0},\n",
              " 'created_at': {'$date': '2022-09-16T14:06:11Z'},\n",
              " 'lang': 'el',\n",
              " 'attachments': {'media_keys': ['3_1570492729934712833']},\n",
              " 'author': {'username': 'mpadadespoina',\n",
              "  'id': 2967448373,\n",
              "  'created_at': {'$date': '2015-01-08T08:30:25Z'},\n",
              "  'name': 'Δεσποινα Μπαδα',\n",
              "  'pinned_tweet_id': 1542556793108402200,\n",
              "  'verified': False,\n",
              "  'profile_image_url': 'https://pbs.twimg.com/profile_images/1146790481373868032/MFRyArpj_normal.jpg',\n",
              "  'public_metrics': {'followers_count': 659,\n",
              "   'following_count': 274,\n",
              "   'tweet_count': 48113,\n",
              "   'listed_count': 1},\n",
              "  'description': 'Αγαπήσω σε,Κύριε,η ισχύς μου. Κυριος στερέωμα μου και καταφυγή μου και ρυστης μου....',\n",
              "  'protected': False,\n",
              "  'url': ''}}"
            ]
          },
          "metadata": {},
          "execution_count": 12
        }
      ]
    },
    {
      "cell_type": "markdown",
      "source": [
        "## Graph creation\n",
        "\n",
        "**Exercise**: Create the mentioned undirected graph using the Twitter data from the `data` variable. On Twitter, a user can mention a user by adding his username to his tweet. Look at the tweets object from the `data` variable and find the included mentions. The user that created the tweet can be found under the author field. So to create the mentioned graph, you need to add an edge between the author and the users he mentioned in the tweet. Then, you need to remove the isolated nodes and keep only the giant connected component. Finally, save the graph instance in the `graph` variable."
      ],
      "metadata": {
        "id": "ch_IFCobZ-ND"
      }
    },
    {
      "cell_type": "code",
      "source": [
        "graph = nx.Graph()\n",
        "# BEGIN CODE HERE\n",
        "\n",
        "# Gathering all relevant user IDs and mentions in a set - python sets do not keep duplicate elements, which is very handy here\n",
        "userIDs = set()\n",
        "mentions = set()\n",
        "\n",
        "for tweet in data:\n",
        "  if 'mentions' in tweet['entities'].keys(): # Filtering tweets to only include those that mention other users, avoiding isolated nodes (Kind of redundant as we're only keeping the giant connected component, but probably a good practice)\n",
        "\n",
        "    userIDs.add(tweet['author_id']) # Adding tweeting users\n",
        "\n",
        "    for mention in tweet['entities']['mentions']:\n",
        "\n",
        "      userIDs.add(mention['id']) # Adding mentioned users\n",
        "\n",
        "      mentions.add((tweet['author_id'],mention['id'])) # Storing who mentions who, for the edges\n",
        "\n",
        "# Adding all relevant user IDs and mentions to the graph - this could have been done inside the iterations previously, but I chose not to for the sake of clarity\n",
        "graph.add_nodes_from(userIDs)\n",
        "graph.add_edges_from(mentions)\n",
        "\n",
        "# Keeping only the giant connected component of the graph\n",
        "graph_components = nx.connected_components(graph)\n",
        "graph_components = sorted(graph_components, key = len, reverse = True)\n",
        "graph = graph.subgraph(graph_components[0])\n",
        "\n",
        "# Personal note - I assume it's because this is just for the test, but normally, a directed graph would be more appropriate to plot twitter mentions, right?\n",
        "\n",
        "# Secondary note - I am currently unsure as to why no instances of users mentioning themselves were found, even though the given graph seems to show some such instances. I'll update this if I find out anything more.\n",
        "\n",
        "# END CODE HERE"
      ],
      "metadata": {
        "id": "H92XZghTA2SL"
      },
      "execution_count": 13,
      "outputs": []
    },
    {
      "cell_type": "markdown",
      "source": [
        "## Graph properties\n",
        "\n",
        "In the section, you need to calculate some graph properties.\n",
        "\n",
        "**Exercise**: Calculate the total number of nodes."
      ],
      "metadata": {
        "id": "XgBUoBNNXZ80"
      }
    },
    {
      "cell_type": "code",
      "source": [
        "# BEGIN CODE HERE\n",
        "\n",
        "print(\"Number of nodes:\",graph.number_of_nodes()) # There's functions ready for the number of both nodes and edges.\n",
        "\n",
        "# END CODE HERE"
      ],
      "metadata": {
        "id": "ZetDA4IzDmuI"
      },
      "execution_count": null,
      "outputs": []
    },
    {
      "cell_type": "markdown",
      "source": [
        "**Exercise**: Calculate the total number of edges."
      ],
      "metadata": {
        "id": "T1CisBi6Xszo"
      }
    },
    {
      "cell_type": "code",
      "source": [
        "# BEGIN CODE HERE\n",
        "\n",
        "print(\"Number of edges:\",graph.number_of_edges())\n",
        "\n",
        "# END CODE HERE"
      ],
      "metadata": {
        "id": "cWXjGEC1Eqx_"
      },
      "execution_count": null,
      "outputs": []
    },
    {
      "cell_type": "markdown",
      "source": [
        "**Exercise**: Calculate and display the five most important users."
      ],
      "metadata": {
        "id": "NXrP4S18X6QC"
      }
    },
    {
      "cell_type": "code",
      "source": [
        "# BEGIN CODE HERE\n",
        "\n",
        "# Quick note - by most important users, we basically mean the highest degree nodes\n",
        "\n",
        "node_degrees = graph.degree() # Retrieving node degree info, in tuples of form (user_id, degree)\n",
        "\n",
        "leaderboard = sorted(node_degrees, key = lambda i: i[1], reverse = True) # Sorting by the second element of each tuple, and reversing order so it's descending rather than ascending\n",
        "\n",
        "top_5 = leaderboard[0:5] # Picking the top 5 most important users\n",
        "\n",
        "# Printing results\n",
        "print(\"Top 5 most important users (mentioned others or were mentioned the most):\")\n",
        "for element in top_5:\n",
        "  print(\"User with ID\",element[0],\"had\",element[1],\"mentions\")\n",
        "\n",
        "# END CODE HERE"
      ],
      "metadata": {
        "id": "8ib7qLtoP2OD"
      },
      "execution_count": null,
      "outputs": []
    },
    {
      "cell_type": "markdown",
      "source": [
        "## Graph Visualization\n",
        "\n",
        "Visualize the graph that you have created using the below code cell."
      ],
      "metadata": {
        "id": "miIm6a6pXTB7"
      }
    },
    {
      "cell_type": "code",
      "source": [
        "# Run this cell\n",
        "plt.figure(3,figsize=(12,12)) \n",
        "pos = nx.spring_layout(graph, k=0.1, seed=0)\n",
        "nx.draw(graph, pos, node_size=10, font_size=8)"
      ],
      "metadata": {
        "id": "BidEriUVE-sJ"
      },
      "execution_count": null,
      "outputs": []
    },
    {
      "cell_type": "markdown",
      "source": [
        "If the graph has been created successfully, then the image should be the same as below.\n",
        "\n",
        "<img src='https://drive.google.com/uc?id=1fHnHQK1uZxeEzisQ78qdnOzhivQ1e0OM' />"
      ],
      "metadata": {
        "id": "mqPQD24tVlt_"
      }
    }
  ]
}